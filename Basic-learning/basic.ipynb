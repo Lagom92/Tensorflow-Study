{
 "nbformat": 4,
 "nbformat_minor": 2,
 "metadata": {
  "language_info": {
   "name": "python",
   "codemirror_mode": {
    "name": "ipython",
    "version": 3
   },
   "version": "3.7.6-final"
  },
  "orig_nbformat": 2,
  "file_extension": ".py",
  "mimetype": "text/x-python",
  "name": "python",
  "npconvert_exporter": "python",
  "pygments_lexer": "ipython3",
  "version": 3,
  "kernelspec": {
   "name": "python37664bitd6c49ce9a0fb4da9a60aa5dde01a050b",
   "display_name": "Python 3.7.6 64-bit"
  }
 },
 "cells": [
  {
   "cell_type": "markdown",
   "metadata": {},
   "source": [
    "# Tensorflow 기초학습"
   ]
  },
  {
   "cell_type": "code",
   "execution_count": 1,
   "metadata": {},
   "outputs": [],
   "source": [
    "# 텐서플로 동작\n",
    "import tensorflow as tf"
   ]
  },
  {
   "cell_type": "markdown",
   "metadata": {},
   "source": [
    "## 텐서의 표현"
   ]
  },
  {
   "cell_type": "markdown",
   "metadata": {},
   "source": [
    "- 피처 벡터(feature vector): 피처(feature)를 순서대로 나열한 목록\n",
    "- 행렬은 벡터의 목록을 간결하게 표현하는데, 행렬의 각 열(column)이 피처 벡터이다.\n",
    "- 텐서플로에서는 행렬을 동일한 길이를 가지는 벡터들의 벡터로 표현한다.\n"
   ]
  },
  {
   "cell_type": "code",
   "execution_count": null,
   "metadata": {},
   "outputs": [],
   "source": []
  },
  {
   "cell_type": "markdown",
   "metadata": {},
   "source": [
    "#### 텐서플로에서 행렬을 생성하는 방법"
   ]
  },
  {
   "cell_type": "code",
   "execution_count": 2,
   "metadata": {},
   "outputs": [],
   "source": [
    "import numpy as np \n",
    "\n",
    "# 2 x 2 행렬을 세 가지 방법으로 정의\n",
    "m1 = [[1.0, 2.0],\n",
    "      [3.0, 4.0]]\n",
    "\n",
    "m2 = np.array([[1.0, 2.0],\n",
    "                [3.0, 4.0]], dtype=np.float32)\n",
    "\n",
    "m3 = tf.constant([[1.0, 2.0],\n",
    "                  [3.0, 4.0]])"
   ]
  },
  {
   "cell_type": "code",
   "execution_count": 3,
   "metadata": {},
   "outputs": [
    {
     "name": "stdout",
     "output_type": "stream",
     "text": "[[1.0, 2.0], [3.0, 4.0]]\n[[1. 2.]\n [3. 4.]]\nTensor(\"Const:0\", shape=(2, 2), dtype=float32)\n"
    }
   ],
   "source": [
    "print(m1)\n",
    "print(m2)\n",
    "print(m3)"
   ]
  },
  {
   "cell_type": "markdown",
   "metadata": {},
   "source": [
    "- m1은 리스트, m2는 넘파이 라이브러리의 ndarray, m3는 텐서플로에서 tf.constant를 이용하여 초기화하는 constant라는 텐서 오브젝트이다."
   ]
  },
  {
   "cell_type": "code",
   "execution_count": 4,
   "metadata": {},
   "outputs": [],
   "source": [
    "t1 = tf.convert_to_tensor(m1, dtype=tf.float32)\n",
    "t2 = tf.convert_to_tensor(m2, dtype=tf.float32)\n",
    "t3 = tf.convert_to_tensor(m3, dtype=tf.float32)"
   ]
  },
  {
   "cell_type": "code",
   "execution_count": 5,
   "metadata": {},
   "outputs": [
    {
     "name": "stdout",
     "output_type": "stream",
     "text": "Tensor(\"Const_1:0\", shape=(2, 2), dtype=float32)\nTensor(\"Const_2:0\", shape=(2, 2), dtype=float32)\nTensor(\"Const:0\", shape=(2, 2), dtype=float32)\n"
    }
   ],
   "source": [
    "print(t1)\n",
    "print(t2)\n",
    "print(t3)"
   ]
  },
  {
   "cell_type": "markdown",
   "metadata": {},
   "source": [
    "### 코드에서 텐서를 정의하는 다른 경우\n",
    "- tf.constant"
   ]
  },
  {
   "cell_type": "code",
   "execution_count": 6,
   "metadata": {},
   "outputs": [],
   "source": [
    "# 1 x 2 행렬 정의\n",
    "m1 = tf.constant([[1., 2.]])\n",
    "\n",
    "# 2 x 1 행렬 정의\n",
    "m2 = tf.constant([[1],\n",
    "                  [2]])\n",
    "\n",
    "# 랭크-3 텐서 정의\n",
    "m3 = tf.constant([[[1, 2],\n",
    "                   [3, 4],\n",
    "                   [5, 6]],\n",
    "                  [[7, 8],\n",
    "                   [9, 10],\n",
    "                   [11, 12]]])"
   ]
  },
  {
   "cell_type": "code",
   "execution_count": 7,
   "metadata": {},
   "outputs": [
    {
     "name": "stdout",
     "output_type": "stream",
     "text": "Tensor(\"Const_3:0\", shape=(1, 2), dtype=float32)\nTensor(\"Const_4:0\", shape=(2, 1), dtype=int32)\nTensor(\"Const_5:0\", shape=(2, 3, 2), dtype=int32)\n"
    }
   ],
   "source": [
    "print(m1)\n",
    "print(m2)\n",
    "print(m3)"
   ]
  },
  {
   "cell_type": "markdown",
   "metadata": {},
   "source": [
    "- 각 Tensor 오브젝트는 고유의 레이블(name), 구조의 차원(shape), 조작하고자 하는 값의 종류를 지정하는 데이터의 형(dtype)을 가진다.\n",
    "\n",
    "- 위의 경우 이름을 명시적으로 지정하지 않았기 때문에 라이브러리가 자동으로 이름을 생성해 주었다."
   ]
  },
  {
   "cell_type": "markdown",
   "metadata": {},
   "source": [
    "## 연산자 생성하기"
   ]
  },
  {
   "cell_type": "markdown",
   "metadata": {},
   "source": [
    "#### 부정 연산 사용하기\n"
   ]
  },
  {
   "cell_type": "code",
   "execution_count": 8,
   "metadata": {},
   "outputs": [
    {
     "name": "stdout",
     "output_type": "stream",
     "text": "Tensor(\"Neg:0\", shape=(1, 2), dtype=int32)\n"
    }
   ],
   "source": [
    "# 임의의 텐서 정의\n",
    "x = tf.constant([[1, 2]])\n",
    "\n",
    "# 텐서에 부정 연산을 수행\n",
    "negMatrix = tf.negative(x)\n",
    "\n",
    "print(negMatrix)"
   ]
  },
  {
   "cell_type": "markdown",
   "metadata": {},
   "source": [
    "- 부정 연산의 결과를 출력한 것이 [[[-1, -2]]] 가 아님\n",
    "\n",
    "- 부정 연산의 정의를 출력한 것일 뿐, 연산의 실제 평가(실행) 결과를 출력한 것이 아니기 때문이다.\n",
    "\n",
    "- 출력된 결과는 부정 연산이 이름, 형태, 데이터의 형을 가지는 텐서 클래스"
   ]
  },
  {
   "cell_type": "markdown",
   "metadata": {},
   "source": [
    "### 유용한 텐서플로 연산자\n",
    "- 공식문서에서 모든 수학 연산자를 확인 할 수 있다."
   ]
  },
  {
   "cell_type": "markdown",
   "metadata": {},
   "source": [
    "- 많이 사용하는 연산자\n",
    "\n",
    "    - tf.add(x, y) : 동일한 형의 2개의 텐서를 더한다.\n",
    "\n",
    "    - tf.subtract(x, y) : 동일한 형의 텐서를 뺍니다.\n",
    "\n",
    "    - tf.multiply(x, y) : 2개의 텐서를 원소별로(element-wise) 곱한다.\n",
    "\n",
    "    - tf.pow(x, y) : 원소별로 x를 y제곱한다.\n",
    "\n",
    "    - tf.exp(x) : e는 오일러의 수(2.718...)이며 pow(e, x)와 동일하다.\n",
    "\n",
    "    - tf.sqrt(x) : pow(x, 0.5)와 동일하다.\n",
    "\n",
    "    - tf.div(x, y) : 원소별로 x를 y로 나눈다.\n",
    "\n",
    "    - tf.truediv(x, y) : tf.div와 동일한데, 인자를 실수형으로 형변환한다.\n",
    "\n",
    "    - tf.floordiv(x, y) : truediv와 동일한데, 최종 값을 반올림하여 정수로 만든다.\n",
    "\n",
    "    - tf.mod(x, y) : 원소별로 x를 y로 나눈 나머지를 구한다."
   ]
  },
  {
   "cell_type": "markdown",
   "metadata": {},
   "source": [
    "## 세션을 이용하여 연산자 실행하기\n",
    "- 세션(session)은 코드가 어떻게 실행될지 알려주는 소프트웨어 시스템의 환경이라고 할 수 있다.\n",
    "\n",
    "- 텐서플로에서 세션은 CPU나 GPU 같은 하드웨어 장비가 어떻게 상호 작용하는지 설정한다.\n",
    "\n",
    "- 연산을 실행하고 계산된 값을 가져오기 위해 텐서플로는 세션이 필요하다.\n",
    "\n",
    "- 등록된 세션만이 텐서 오브젝트의 값을 채우게 된다."
   ]
  },
  {
   "cell_type": "markdown",
   "metadata": {},
   "source": [
    "#### 세션의 사용"
   ]
  },
  {
   "cell_type": "code",
   "execution_count": 9,
   "metadata": {},
   "outputs": [
    {
     "name": "stdout",
     "output_type": "stream",
     "text": "[[-1. -2.]]\n"
    }
   ],
   "source": [
    "x = tf.constant([[1., 2.]])\n",
    "# 부정 연산\n",
    "neg_Matrix = tf.negative(x)\n",
    "# 연산을 실행하기 위해 세션을 시작\n",
    "with tf.Session() as sess:\n",
    "    # 세션에 neg_Matrix를 평가하게 한다.\n",
    "    result = sess.run(neg_Matrix)\n",
    "\n",
    "print(result)"
   ]
  },
  {
   "cell_type": "markdown",
   "metadata": {},
   "source": [
    "- 제대로된 결과가 출력됨을 확인"
   ]
  },
  {
   "cell_type": "markdown",
   "metadata": {},
   "source": [
    "- 세션은 코드가 장비의 어디에서 돌아갈지 설정 할 뿐만 아니라 병렬 컴퓨팅을 수행하기 위해 연산을 어떻게 전개해 나갈지도 조정하는 역할을 한다."
   ]
  },
  {
   "cell_type": "markdown",
   "metadata": {},
   "source": [
    "- 디버깅 또는 코드를 보여주기 위한 목적으로 쌍방향 환경에서 텐서플로 코드를 실행하는 경우에는 세션이 암묵적으로 eval()을 호출하는 것의 일부이기 때문에 쌍방향 모드로 세션을 생성하는 것이 좀 더 수월하다. "
   ]
  },
  {
   "cell_type": "markdown",
   "metadata": {},
   "source": [
    "#### 쌍방향 세션 모드의 사용"
   ]
  },
  {
   "cell_type": "code",
   "execution_count": 10,
   "metadata": {},
   "outputs": [
    {
     "name": "stdout",
     "output_type": "stream",
     "text": "[[-1. -2.]]\n"
    }
   ],
   "source": [
    "# sess 변수가 더 전달될 필요 없도록 쌍방향 세션을 시작\n",
    "sess = tf.InteractiveSession()\n",
    "\n",
    "# 임의의 행렬을 정의하고 부정 연산 수행\n",
    "x = tf.constant([[1., 2.]])\n",
    "negMatrix = tf.negative(x)\n",
    "\n",
    "# 세션을 명시하지 않고도 negMatrix를 평가 할 수 있음\n",
    "result = negMatrix.eval()\n",
    "\n",
    "print(result)\n",
    "\n",
    "# 리소스를 비워주기 위해 세션을 닫기\n",
    "sess.close()\n"
   ]
  },
  {
   "cell_type": "code",
   "execution_count": null,
   "metadata": {},
   "outputs": [],
   "source": []
  },
  {
   "cell_type": "markdown",
   "metadata": {},
   "source": [
    "### 세션의 설정 세팅하기\n",
    "- tf.Session()에 옵션 추가하기"
   ]
  },
  {
   "cell_type": "markdown",
   "metadata": {},
   "source": [
    "#### 세션 로그 만들기"
   ]
  },
  {
   "cell_type": "code",
   "execution_count": 11,
   "metadata": {},
   "outputs": [
    {
     "name": "stdout",
     "output_type": "stream",
     "text": "Device mapping:\n\n[[-1. -2.]]\n"
    }
   ],
   "source": [
    "x = tf.constant([[1., 2.]])\n",
    "negMatrix = tf.negative(x)\n",
    "\n",
    "# 로그를 생성하기 위해 생성자에 전달되는 옵션과 함께 세션을 시작\n",
    "with tf.Session(config=tf.ConfigProto(log_device_placement=True)) as sess:\n",
    "    result = sess.run(negMatrix)\n",
    "\n",
    "print(result)"
   ]
  },
  {
   "cell_type": "code",
   "execution_count": null,
   "metadata": {},
   "outputs": [],
   "source": []
  },
  {
   "cell_type": "markdown",
   "metadata": {},
   "source": [
    "- 이 세션 내의 각각의 연산에 대해 어떤 CPU/GPU가 사용되었는지를 출력"
   ]
  },
  {
   "cell_type": "markdown",
   "metadata": {},
   "source": [
    "- 세션은 그래프 연산을 실행할 뿐만 아니라 placeholder(플레이스홀더), variable(변수), constant(상수)을 입력으로 받을 수 있다.\n",
    "\n",
    "    - placeholder : 아직 값이 할당되지 않았으나 실행 시에 세션에 의해 초기화되는 값을 의미한다. 일반적으로 우리 모델의 입력과 출력이 플레이스홀더가 된다.\n",
    "\n",
    "    - variable : 머신러닝 모델의 파라미터처럼 변할 수 있는 값을 의미한다. 반드시 변수는 사용 전에 세션에 의해 초기화되어야 한다.\n",
    "\n",
    "    - constant : 하이퍼파라미터나 설정값처럼 변하지 않는 값을 의미한다."
   ]
  },
  {
   "cell_type": "markdown",
   "metadata": {},
   "source": [
    "## 변수 사용하기"
   ]
  },
  {
   "cell_type": "markdown",
   "metadata": {},
   "source": [
    "#### 변수 사용하기"
   ]
  },
  {
   "cell_type": "code",
   "execution_count": 12,
   "metadata": {},
   "outputs": [
    {
     "name": "stdout",
     "output_type": "stream",
     "text": "Spike False\nSpike True\nSpike False\nSpike False\nSpike True\nSpike False\nSpike True\n"
    }
   ],
   "source": [
    "sess = tf.InteractiveSession()\n",
    "\n",
    "# 원데이터\n",
    "raw_data = [1., 2., 8., -1., 0., 5.5, 6., 13]\n",
    "\n",
    "# sipke라는 boolean 변수를 생성하여 숫자가 갑자기 증가하는 경우를 탐지\n",
    "spike = tf.Variable(False)\n",
    "\n",
    "# 모든 변수들이 초기화되어야 하기 때문에 run()을 호출하여 변수를 초기화\n",
    "spike.initializer.run()\n",
    "\n",
    "# 데이터들을 돌면서 5보다 큰 증가가 있는 경우 spike변수를 업데이트\n",
    "for i in range(1, len(raw_data)):\n",
    "    if raw_data[i] - raw_data[i-1] > 5:\n",
    "        # 변수를 업데이트하기 위해 tf.assign(<변수명>, <새로운값>)을 이용하여 변수에 새로운 값을 할당\n",
    "        updater = tf.assign(spike, True)\n",
    "\n",
    "        # 변화를 보기 위해 실행\n",
    "        updater.eval()\n",
    "    else:\n",
    "        tf.assign(spike, False).eval()\n",
    "\n",
    "    print(\"Spike\", spike.eval())\n",
    "    \n",
    "sess.close()"
   ]
  },
  {
   "cell_type": "markdown",
   "metadata": {},
   "source": [
    "## 변수를 저장하고 불러오기\n"
   ]
  },
  {
   "cell_type": "markdown",
   "metadata": {},
   "source": [
    "#### 변수 저장하기"
   ]
  },
  {
   "cell_type": "code",
   "execution_count": 13,
   "metadata": {},
   "outputs": [
    {
     "name": "stdout",
     "output_type": "stream",
     "text": "spikes data saved in file: ./spikes.ckpt\n"
    }
   ],
   "source": [
    "sess = tf.InteractiveSession()\n",
    "\n",
    "raw_data = [1., 2., 8., -1., 0., 5.5, 6., 13]\n",
    "\n",
    "spikes = tf.Variable([False] * len(raw_data), name='spikes')\n",
    "\n",
    "# 변수 초기화\n",
    "spikes.initializer.run()\n",
    "\n",
    "# saver 연산은 변수의 저장과 복구를 가능하게 한다.\n",
    "# 생성자에 사전을 전달하지 않으면 현재 프로그램 내 모든 변수들을 저장한다.\n",
    "saver = tf.train.Saver({'spikes':spikes})\n",
    "\n",
    "for i in range(1, len(raw_data)):\n",
    "    if raw_data[i] - raw_data[i-1] > 5:\n",
    "        spikes_val = spikes.eval()\n",
    "        spikes_val[i] = True\n",
    "        updater = tf.assign(spikes, spikes_val)\n",
    "        updater.eval()\n",
    "\n",
    "# 변수를 디스크에 저장\n",
    "save_path = saver.save(sess, \"./spikes.ckpt\")\n",
    "\n",
    "print(f\"spikes data saved in file: {save_path}\")\n",
    "\n",
    "sess.close()"
   ]
  },
  {
   "cell_type": "markdown",
   "metadata": {},
   "source": [
    "- 위의 코드 실행을 통해 몇개의 파일이 생성됨\n",
    "\n",
    "- 그 중 spikes.ckpt는 압축되어 저장된 바이너리 파일이\n",
    "\n",
    "- 데이터를 불러오기 위해서는 saver 연산의 restore 함수를 사용해야 함"
   ]
  },
  {
   "cell_type": "markdown",
   "metadata": {},
   "source": [
    "#### 변수 불러오기"
   ]
  },
  {
   "cell_type": "code",
   "execution_count": 14,
   "metadata": {},
   "outputs": [
    {
     "name": "stdout",
     "output_type": "stream",
     "text": "INFO:tensorflow:Restoring parameters from ./spikes.ckpt\n[False False  True False False  True False  True]\n"
    }
   ],
   "source": [
    "sess = tf.InteractiveSession()\n",
    "\n",
    "# 저장된 데이터와 동일한 크기와 이름을 가지는 변수를 생성\n",
    "spikes = tf.Variable([False]*len(raw_data), name='spikes')\n",
    "\n",
    "# 직접 불러올 것 이기 때문에 초기화할 필요 없음\n",
    "\n",
    "# 저장된 데이터를 복원하기 위해 saver 연산자를 생성\n",
    "saver = tf.train.Saver({'spikes':spikes})\n",
    "\n",
    "try:\n",
    "    # spikes.ckpt 파일로부터 데이터를 복원\n",
    "    saver.restore(sess, \"./spikes.ckpt\")\n",
    "    print(spikes.eval())\n",
    "except:\n",
    "    # 에러 발생 시\n",
    "    print('file not found')\n",
    "\n",
    "sess.close()"
   ]
  },
  {
   "cell_type": "markdown",
   "metadata": {},
   "source": [
    "## Tensorboard를 이용한 데이터 시각화"
   ]
  },
  {
   "cell_type": "markdown",
   "metadata": {},
   "source": [
    "### 이동 평균 구현하기\n",
    "\n",
    "- 지수 평균 알고리즘\n",
    "    - 이전에 측정한 평균과 현재의 값의 함수로서 현재의 추정 평균을 구하는 방식\n",
    "\n"
   ]
  },
  {
   "cell_type": "markdown",
   "metadata": {},
   "source": [
    "- alpha : tf.constant => 상수\n",
    "- curr_value : placeholder => 변수와 유사하지만 값이 세션으로부터 채워진다.\n",
    "- prev_avg : variable => 변수"
   ]
  },
  {
   "cell_type": "markdown",
   "metadata": {},
   "source": [
    "#### 지수 평균 알고리즘"
   ]
  },
  {
   "cell_type": "code",
   "execution_count": 15,
   "metadata": {},
   "outputs": [
    {
     "name": "stdout",
     "output_type": "stream",
     "text": "9.595943380533352 0.47979718\n9.688762153605019 0.9402454\n9.445273688924129 1.3654968\n9.775590320341697 1.7860014\n11.179408299446612 2.2556717\n10.07559795863741 2.646668\n11.233946677837652 3.0760317\n8.444118156809928 3.344436\n9.206213630690565 3.6375248\n8.998322153993549 3.9055648\n9.818802740970733 4.2012267\n8.619664634779967 4.4221487\n10.786032520227193 4.740343\n9.239306255548959 4.965291\n9.63834107333981 5.198943\n9.2484526337897485.4014187\n9.121874003314668 5.5874414\n11.859790534312046 5.9010587\n10.580828626966596 6.135047\n9.771829490813207 6.3168864\n11.437291293832633 6.5729065\n9.490733252032062 6.7187977\n8.438788828763352 6.804797\n10.255068493547967 6.9773107\n12.480182890046065 7.2524543\n11.074061463601232 7.443535\n9.368500177066746 7.539783\n10.98322210835635 7.7119546\n8.105634450129442 7.7316384\n9.235203489978005 7.8068166\n8.476301980275357 7.840291\n9.852883390071721 7.940921\n9.16034436262111 8.001892\n9.960396098957279 8.099817\n11.43628437973438 8.266641\n9.561457171305022 8.331382\n10.497965627959 8.439711\n9.752802248145546 8.505365\n9.60623691068527 8.560409\n9.553399344086712 8.610058\n9.46672610155625 8.652891\n11.561235582779744 8.798308\n10.125755432775914 8.86468\n10.173868913499534 8.93014\n10.2215107158844088.994708\n9.919334701671552 9.040939\n11.126306588120299 9.145207\n8.777396636629877 9.126817\n8.181020321011966 9.079527\n9.623060027547883 9.106703\n8.818356827422477 9.092285\n10.199308750655382 9.147636\n8.463791220725321 9.113443\n11.179947091084207 9.216768\n11.707571942896703 9.341309\n9.814887869679241 9.364987\n11.407541105069654 9.467115\n9.558777766341478 9.471698\n9.089104191187749 9.452568\n10.316970552875318 9.495788\n9.500801509008156 9.496038\n10.165091242438614 9.529491\n9.178041440913004 9.511919\n10.833932593764764 9.578019\n9.48038478246754 9.573137\n9.63683476054848 9.576323\n8.983445848775178 9.546679\n11.001723996241513 9.619431\n8.80123722104501 9.578521\n10.499676844443846 9.624578\n9.487446374217962 9.617722\n8.418363485511854 9.557754\n11.226953717441768 9.641213\n11.577991055736756 9.738052\n10.13485594615181 9.757892\n8.366745134109335 9.6883335\n9.212024859226641 9.664517\n8.663314995345374 9.614457\n10.446533134608108 9.65606\n10.598345343863382 9.703175\n10.089428761541194 9.722487\n9.886988659446738 9.730713\n11.189329642710087 9.803643\n10.555626897040346 9.841243\n9.443141499373521 9.821338\n10.71710063311658 9.866126\n9.799629980670051 9.862802\n10.143247653316472 9.876823\n9.124302891714699 9.839197\n11.399015463235191 9.917189\n9.229560254147358 9.882808\n9.944830715100704 9.885909\n10.02129629772881 9.892679\n10.021064659650245 9.899098\n10.190480665766149 9.913668\n9.887595049908676 9.912364\n11.060755117270617 9.969784\n10.4022058951878 9.991405\n10.700288756328407 10.026849\n10.13556496709786 10.032284\n"
    }
   ],
   "source": [
    "import tensorflow as tf\n",
    "import numpy as np\n",
    "\n",
    "# 평균값 10과 표준편차 1을 가지는 100개의 숫자로 구성된 벡터 생성\n",
    "raw_data = np.random.normal(10, 1, 100)\n",
    "\n",
    "alpha = tf.constant(0.05)\n",
    "curr_value = tf.placeholder(tf.float32)\n",
    "prev_avg = tf.Variable(0.)\n",
    "\n",
    "update_avg = alpha * curr_value + (1 - alpha) * prev_avg\n",
    "\n",
    "init = tf.global_variables_initializer()\n",
    "\n",
    "with tf.Session() as sess:\n",
    "    sess.run(init)\n",
    "    for i in range(len(raw_data)):\n",
    "        curr_avg = sess.run(update_avg,\n",
    "                            feed_dict={curr_value:raw_data[i]})\n",
    "        sess.run(tf.assign(prev_avg, curr_avg))\n",
    "\n",
    "        print(raw_data[i], curr_avg)"
   ]
  },
  {
   "cell_type": "markdown",
   "metadata": {},
   "source": [
    "### 이동 평균 시각화하기\n",
    "- 텐서보드를 이용해서 결과를 시각화 하기\n",
    "\n",
    "- 과정\n",
    "    1. 관찰하기를 원하는 노드들에 summary op 처리를 함으로써 해당 노드를 선정한다.\n",
    "    2. 노드에서 add_summary를 호출하여 데이터를 큐에 쌓아 디스크에 쓰도록 한다."
   ]
  },
  {
   "cell_type": "markdown",
   "metadata": {},
   "source": [
    "#### 텐서보드로 모니터링하기"
   ]
  },
  {
   "cell_type": "code",
   "execution_count": 16,
   "metadata": {},
   "outputs": [
    {
     "name": "stdout",
     "output_type": "stream",
     "text": "9.091533287930279 0.4545767\n8.714602254302132 0.867578\n10.08855542340043 1.3286269\n9.230721012323752 1.7237315\n10.710232475570423 2.1730566\n9.59226273873143 2.5440168\n9.497588736415183 2.8916955\n8.958327477050123 3.1950269\n7.900872951226422 3.430319\n7.787038602143644 3.648155\n11.14782666690125 4.0231385\n10.676670472936468 4.355815\n11.456150312931102 4.7108316\n10.944828087348771 5.022531\n10.805238597463225 5.311666\n11.26988124224338 5.6095767\n8.017274456440925 5.7299614\n11.394815931346912 6.013204\n10.062483770471301 6.215668\n10.195567529363947 6.4146633\n9.44130796128982 6.5659957\n9.394292967576545 6.7074103\n11.290289812061692 6.9365544\n10.348333859154591 7.1071434\n10.100901407443581 7.256831\n9.03783616130702 7.3458815\n9.651674551414336 7.4611707\n8.360853361588132 7.5061545\n11.547455176450878 7.708219\n10.08768095418257 7.827192\n9.414582759675119 7.9065614\n8.551267403261734 7.9387965\n10.33366769123393 8.05854\n10.725573661376473 8.191892\n9.976770315490267 8.281136\n9.393493405456177 8.336754\n10.726076275859912 8.45622\n10.187233471320077 8.542769\n8.871076414299157 8.559185\n7.956113859166208 8.529032\n10.318131785019823 8.618486\n11.22408408537626 8.748766\n9.109370087330763 8.766796\n10.95301510173642 8.876106\n9.545513041184421 8.909576\n11.134633768390103 9.020828\n9.803674817665755 9.059971\n8.6167887282911 9.037811\n9.946798952489894 9.083261\n10.968151998173768 9.177505\n9.446714347119686 9.190965\n9.512306897369044 9.207032\n10.048046560864192 9.249083\n9.638892328487662 9.268574\n10.223854459055977 9.316338\n8.202105403981475 9.260626\n10.024075838951577 9.298798\n8.931169375911917 9.2804165\n8.746540665221733 9.253723\n9.074292380599191 9.244751\n9.71743712718589 9.268386\n10.697355234456305 9.339834\n10.048203509077808 9.375253\n9.269769194563436 9.369979\n10.383610121188513 9.42066\n9.71877398071904 9.435566\n10.385066660891777 9.483041\n11.549436211034415 9.58636\n11.161296518621148 9.665107\n9.127101429820382 9.6382065\n10.400295593433063 9.676311\n11.306382714646789 9.757814\n9.378006541151922 9.738824\n10.621782542302128 9.782971\n10.876836863253807 9.837664\n10.14055140108152 9.852808\n10.700022420598856 9.895168\n9.1291803127417 9.856869\n8.68925203306256 9.798488\n10.165365912208738 9.816832\n12.30993144440228 9.941486\n9.012501963003722 9.895038\n11.3833301022255 9.969452\n10.355062962834472 9.988732\n9.606775171335956 9.969635\n8.235351729388732 9.882921\n8.961839001037616 9.836866\n10.875750462487387 9.888811\n8.0093950302332 9.79484\n8.33620117219905 9.721908\n10.301103854256173 9.750868\n10.703911083570219 9.79852\n9.221407234168653 9.769664\n9.208467424230328 9.741604\n11.126806906755123 9.8108635\n10.48586712371941 9.844613\n10.779344739621408 9.89135\n11.247981593532888 9.959181\n9.090205449775631 9.915732\n9.322839238431126 9.886087\n"
    }
   ],
   "source": [
    "import tensorflow as tf\n",
    "import numpy as np\n",
    "\n",
    "raw_data = np.random.normal(10, 1, 100)\n",
    "\n",
    "alpha = tf.constant(0.05)\n",
    "curr_value = tf.placeholder(tf.float32)\n",
    "prev_avg = tf.Variable(0.)\n",
    "\n",
    "update_avg = alpha * curr_value + (1 - alpha) * prev_avg\n",
    "\n",
    "# 평균을 위한 요약 노드를 생성\n",
    "avg_hist = tf.summary.scalar(\"running_average\", update_avg)\n",
    "\n",
    "# 값들을 위한 요약 노드를 생성\n",
    "value_hist = tf.summary.scalar(\"incoming_values\", curr_value)\n",
    "\n",
    "# 한꺼번에 실행하기 편하기 위해 요약을 통합\n",
    "merged = tf.summary.merge_all()\n",
    "\n",
    "# writer에 로그 디렉토리 위치를 전달\n",
    "writer = tf.summary.FileWriter(\"./logs\")\n",
    "\n",
    "init = tf.global_variables_initializer()\n",
    "\n",
    "with tf.Session() as sess:\n",
    "    sess.run(init)\n",
    "    for i in range(len(raw_data)):\n",
    "        # 통합된 연산과 update_avg 연산을 동시에 실행 \n",
    "        summary_str, curr_avg = sess.run([merged, update_avg], feed_dict={curr_value: raw_data[i]})\n",
    "        \n",
    "        sess.run(tf.assign(prev_avg, curr_avg))\n",
    "        print(raw_data[i], curr_avg)\n",
    "\n",
    "        # 요약을 writer에 추가\n",
    "        writer.add_summary(summary_str, i)\n"
   ]
  },
  {
   "cell_type": "markdown",
   "metadata": {},
   "source": [
    "- 텐서보드 실행하기\n",
    "\n",
    "     tensorboard --logdir=./logs"
   ]
  },
  {
   "cell_type": "code",
   "execution_count": null,
   "metadata": {},
   "outputs": [],
   "source": []
  }
 ]
}