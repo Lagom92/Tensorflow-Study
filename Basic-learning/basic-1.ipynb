{
 "nbformat": 4,
 "nbformat_minor": 2,
 "metadata": {
  "language_info": {
   "name": "python",
   "codemirror_mode": {
    "name": "ipython",
    "version": 3
   },
   "version": "3.7.6-final"
  },
  "orig_nbformat": 2,
  "file_extension": ".py",
  "mimetype": "text/x-python",
  "name": "python",
  "npconvert_exporter": "python",
  "pygments_lexer": "ipython3",
  "version": 3,
  "kernelspec": {
   "name": "python37664bitd6c49ce9a0fb4da9a60aa5dde01a050b",
   "display_name": "Python 3.7.6 64-bit"
  }
 },
 "cells": [
  {
   "cell_type": "markdown",
   "metadata": {},
   "source": [
    "# Tensorflow 기초학습"
   ]
  },
  {
   "cell_type": "code",
   "execution_count": 1,
   "metadata": {},
   "outputs": [],
   "source": [
    "# 텐서플로 동작\n",
    "import tensorflow as tf"
   ]
  },
  {
   "cell_type": "markdown",
   "metadata": {},
   "source": [
    "## 텐서의 표현"
   ]
  },
  {
   "cell_type": "markdown",
   "metadata": {},
   "source": [
    "- 피처 벡터(feature vector): 피처(feature)를 순서대로 나열한 목록\n",
    "- 행렬은 벡터의 목록을 간결하게 표현하는데, 행렬의 각 열(column)이 피처 벡터이다.\n",
    "- 텐서플로에서는 행렬을 동일한 길이를 가지는 벡터들의 벡터로 표현한다.\n"
   ]
  },
  {
   "cell_type": "code",
   "execution_count": null,
   "metadata": {},
   "outputs": [],
   "source": []
  },
  {
   "cell_type": "markdown",
   "metadata": {},
   "source": [
    "#### 텐서플로에서 행렬을 생성하는 방법"
   ]
  },
  {
   "cell_type": "code",
   "execution_count": 2,
   "metadata": {},
   "outputs": [],
   "source": [
    "import numpy as np \n",
    "\n",
    "# 2 x 2 행렬을 세 가지 방법으로 정의\n",
    "m1 = [[1.0, 2.0],\n",
    "      [3.0, 4.0]]\n",
    "\n",
    "m2 = np.array([[1.0, 2.0],\n",
    "                [3.0, 4.0]], dtype=np.float32)\n",
    "\n",
    "m3 = tf.constant([[1.0, 2.0],\n",
    "                  [3.0, 4.0]])"
   ]
  },
  {
   "cell_type": "code",
   "execution_count": 3,
   "metadata": {},
   "outputs": [
    {
     "name": "stdout",
     "output_type": "stream",
     "text": "[[1.0, 2.0], [3.0, 4.0]]\n[[1. 2.]\n [3. 4.]]\nTensor(\"Const:0\", shape=(2, 2), dtype=float32)\n"
    }
   ],
   "source": [
    "print(m1)\n",
    "print(m2)\n",
    "print(m3)"
   ]
  },
  {
   "cell_type": "markdown",
   "metadata": {},
   "source": [
    "- m1은 리스트, m2는 넘파이 라이브러리의 ndarray, m3는 텐서플로에서 tf.constant를 이용하여 초기화하는 constant라는 텐서 오브젝트이다."
   ]
  },
  {
   "cell_type": "code",
   "execution_count": 4,
   "metadata": {},
   "outputs": [],
   "source": [
    "t1 = tf.convert_to_tensor(m1, dtype=tf.float32)\n",
    "t2 = tf.convert_to_tensor(m2, dtype=tf.float32)\n",
    "t3 = tf.convert_to_tensor(m3, dtype=tf.float32)"
   ]
  },
  {
   "cell_type": "code",
   "execution_count": 5,
   "metadata": {},
   "outputs": [
    {
     "name": "stdout",
     "output_type": "stream",
     "text": "Tensor(\"Const_1:0\", shape=(2, 2), dtype=float32)\nTensor(\"Const_2:0\", shape=(2, 2), dtype=float32)\nTensor(\"Const:0\", shape=(2, 2), dtype=float32)\n"
    }
   ],
   "source": [
    "print(t1)\n",
    "print(t2)\n",
    "print(t3)"
   ]
  },
  {
   "cell_type": "markdown",
   "metadata": {},
   "source": [
    "### 코드에서 텐서를 정의하는 다른 경우\n",
    "- tf.constant"
   ]
  },
  {
   "cell_type": "code",
   "execution_count": 6,
   "metadata": {},
   "outputs": [],
   "source": [
    "# 1 x 2 행렬 정의\n",
    "m1 = tf.constant([[1., 2.]])\n",
    "\n",
    "# 2 x 1 행렬 정의\n",
    "m2 = tf.constant([[1],\n",
    "                  [2]])\n",
    "\n",
    "# 랭크-3 텐서 정의\n",
    "m3 = tf.constant([[[1, 2],\n",
    "                   [3, 4],\n",
    "                   [5, 6]],\n",
    "                  [[7, 8],\n",
    "                   [9, 10],\n",
    "                   [11, 12]]])"
   ]
  },
  {
   "cell_type": "code",
   "execution_count": 7,
   "metadata": {},
   "outputs": [
    {
     "name": "stdout",
     "output_type": "stream",
     "text": "Tensor(\"Const_3:0\", shape=(1, 2), dtype=float32)\nTensor(\"Const_4:0\", shape=(2, 1), dtype=int32)\nTensor(\"Const_5:0\", shape=(2, 3, 2), dtype=int32)\n"
    }
   ],
   "source": [
    "print(m1)\n",
    "print(m2)\n",
    "print(m3)"
   ]
  },
  {
   "cell_type": "markdown",
   "metadata": {},
   "source": [
    "- 각 Tensor 오브젝트는 고유의 레이블(name), 구조의 차원(shape), 조작하고자 하는 값의 종류를 지정하는 데이터의 형(dtype)을 가진다.\n",
    "\n",
    "- 위의 경우 이름을 명시적으로 지정하지 않았기 때문에 라이브러리가 자동으로 이름을 생성해 주었다."
   ]
  },
  {
   "cell_type": "markdown",
   "metadata": {},
   "source": [
    "## 연산자 생성하기"
   ]
  },
  {
   "cell_type": "markdown",
   "metadata": {},
   "source": [
    "#### 부정 연산 사용하기\n"
   ]
  },
  {
   "cell_type": "code",
   "execution_count": 8,
   "metadata": {},
   "outputs": [
    {
     "name": "stdout",
     "output_type": "stream",
     "text": "Tensor(\"Neg:0\", shape=(1, 2), dtype=int32)\n"
    }
   ],
   "source": [
    "# 임의의 텐서 정의\n",
    "x = tf.constant([[1, 2]])\n",
    "\n",
    "# 텐서에 부정 연산을 수행\n",
    "negMatrix = tf.negative(x)\n",
    "\n",
    "print(negMatrix)"
   ]
  },
  {
   "cell_type": "markdown",
   "metadata": {},
   "source": [
    "- 부정 연산의 결과를 출력한 것이 [[[-1, -2]]] 가 아님\n",
    "\n",
    "- 부정 연산의 정의를 출력한 것일 뿐, 연산의 실제 평가(실행) 결과를 출력한 것이 아니기 때문이다.\n",
    "\n",
    "- 출력된 결과는 부정 연산이 이름, 형태, 데이터의 형을 가지는 텐서 클래스"
   ]
  },
  {
   "cell_type": "markdown",
   "metadata": {},
   "source": [
    "### 유용한 텐서플로 연산자\n",
    "- 공식문서에서 모든 수학 연산자를 확인 할 수 있다."
   ]
  },
  {
   "cell_type": "markdown",
   "metadata": {},
   "source": [
    "- 많이 사용하는 연산자\n",
    "\n",
    "    - tf.add(x, y) : 동일한 형의 2개의 텐서를 더한다.\n",
    "\n",
    "    - tf.subtract(x, y) : 동일한 형의 텐서를 뺍니다.\n",
    "\n",
    "    - tf.multiply(x, y) : 2개의 텐서를 원소별로(element-wise) 곱한다.\n",
    "\n",
    "    - tf.pow(x, y) : 원소별로 x를 y제곱한다.\n",
    "\n",
    "    - tf.exp(x) : e는 오일러의 수(2.718...)이며 pow(e, x)와 동일하다.\n",
    "\n",
    "    - tf.sqrt(x) : pow(x, 0.5)와 동일하다.\n",
    "\n",
    "    - tf.div(x, y) : 원소별로 x를 y로 나눈다.\n",
    "\n",
    "    - tf.truediv(x, y) : tf.div와 동일한데, 인자를 실수형으로 형변환한다.\n",
    "\n",
    "    - tf.floordiv(x, y) : truediv와 동일한데, 최종 값을 반올림하여 정수로 만든다.\n",
    "\n",
    "    - tf.mod(x, y) : 원소별로 x를 y로 나눈 나머지를 구한다."
   ]
  },
  {
   "cell_type": "markdown",
   "metadata": {},
   "source": [
    "## 세션을 이용하여 연산자 실행하기\n",
    "- 세션(session)은 코드가 어떻게 실행될지 알려주는 소프트웨어 시스템의 환경이라고 할 수 있다.\n",
    "\n",
    "- 텐서플로에서 세션은 CPU나 GPU 같은 하드웨어 장비가 어떻게 상호 작용하는지 설정한다.\n",
    "\n",
    "- 연산을 실행하고 계산된 값을 가져오기 위해 텐서플로는 세션이 필요하다.\n",
    "\n",
    "- 등록된 세션만이 텐서 오브젝트의 값을 채우게 된다."
   ]
  },
  {
   "cell_type": "markdown",
   "metadata": {},
   "source": [
    "#### 세션의 사용"
   ]
  },
  {
   "cell_type": "code",
   "execution_count": 9,
   "metadata": {},
   "outputs": [
    {
     "name": "stdout",
     "output_type": "stream",
     "text": "[[-1. -2.]]\n"
    }
   ],
   "source": [
    "x = tf.constant([[1., 2.]])\n",
    "# 부정 연산\n",
    "neg_Matrix = tf.negative(x)\n",
    "# 연산을 실행하기 위해 세션을 시작\n",
    "with tf.Session() as sess:\n",
    "    # 세션에 neg_Matrix를 평가하게 한다.\n",
    "    result = sess.run(neg_Matrix)\n",
    "\n",
    "print(result)"
   ]
  },
  {
   "cell_type": "markdown",
   "metadata": {},
   "source": [
    "- 제대로된 결과가 출력됨을 확인"
   ]
  },
  {
   "cell_type": "markdown",
   "metadata": {},
   "source": [
    "- 세션은 코드가 장비의 어디에서 돌아갈지 설정 할 뿐만 아니라 병렬 컴퓨팅을 수행하기 위해 연산을 어떻게 전개해 나갈지도 조정하는 역할을 한다."
   ]
  },
  {
   "cell_type": "markdown",
   "metadata": {},
   "source": [
    "- 디버깅 또는 코드를 보여주기 위한 목적으로 쌍방향 환경에서 텐서플로 코드를 실행하는 경우에는 세션이 암묵적으로 eval()을 호출하는 것의 일부이기 때문에 쌍방향 모드로 세션을 생성하는 것이 좀 더 수월하다. "
   ]
  },
  {
   "cell_type": "markdown",
   "metadata": {},
   "source": [
    "#### 쌍방향 세션 모드의 사용"
   ]
  },
  {
   "cell_type": "code",
   "execution_count": 13,
   "metadata": {},
   "outputs": [
    {
     "name": "stdout",
     "output_type": "stream",
     "text": "[[-1. -2.]]\n"
    }
   ],
   "source": [
    "# sess 변수가 더 전달될 필요 없도록 쌍방향 세션을 시작\n",
    "sess = tf.InteractiveSession()\n",
    "\n",
    "# 임의의 행렬을 정의하고 부정 연산 수행\n",
    "x = tf.constant([[1., 2.]])\n",
    "negMatrix = tf.negative(x)\n",
    "\n",
    "# 세션을 명시하지 않고도 negMatrix를 평가 할 수 있음\n",
    "result = negMatrix.eval()\n",
    "\n",
    "print(result)\n",
    "\n",
    "# 리소스를 비워주기 위해 세션을 닫기\n",
    "sess.close()\n"
   ]
  },
  {
   "cell_type": "code",
   "execution_count": null,
   "metadata": {},
   "outputs": [],
   "source": []
  },
  {
   "cell_type": "markdown",
   "metadata": {},
   "source": [
    "### 세션의 설정 세팅하기\n",
    "- tf.Session()에 옵션 추가하기"
   ]
  },
  {
   "cell_type": "markdown",
   "metadata": {},
   "source": [
    "#### 세션 로그 만들기"
   ]
  },
  {
   "cell_type": "code",
   "execution_count": 17,
   "metadata": {},
   "outputs": [
    {
     "name": "stdout",
     "output_type": "stream",
     "text": "Device mapping:\n\n[[-1. -2.]]\n"
    }
   ],
   "source": [
    "x = tf.constant([[1., 2.]])\n",
    "negMatrix = tf.negative(x)\n",
    "\n",
    "# 로그를 생성하기 위해 생성자에 전달되는 옵션과 함께 세션을 시작\n",
    "with tf.Session(config=tf.ConfigProto(log_device_placement=True)) as sess:\n",
    "    result = sess.run(negMatrix)\n",
    "\n",
    "print(result)"
   ]
  },
  {
   "cell_type": "code",
   "execution_count": null,
   "metadata": {},
   "outputs": [],
   "source": []
  },
  {
   "cell_type": "markdown",
   "metadata": {},
   "source": [
    "- 이 세션 내의 각각의 연산에 대해 어떤 CPU/GPU가 사용되었는지를 출력"
   ]
  },
  {
   "cell_type": "markdown",
   "metadata": {},
   "source": [
    "- 세션은 그래프 연산을 실행할 뿐만 아니라 placeholder(플레이스홀더), variable(변수), constant(상수)을 입력으로 받을 수 있다.\n",
    "\n",
    "    - placeholder : 아직 값이 할당되지 않았으나 실행 시에 세션에 의해 초기화되는 값을 의미한다. 일반적으로 우리 모델의 입력과 출력이 플레이스홀더가 된다.\n",
    "\n",
    "    - variable : 머신러닝 모델의 파라미터처럼 변할 수 있는 값을 의미한다. 반드시 변수는 사용 전에 세션에 의해 초기화되어야 한다.\n",
    "\n",
    "    - constant : 하이퍼파라미터나 설정값처럼 변하지 않는 값을 의미한다."
   ]
  },
  {
   "cell_type": "code",
   "execution_count": null,
   "metadata": {},
   "outputs": [],
   "source": []
  },
  {
   "cell_type": "code",
   "execution_count": null,
   "metadata": {},
   "outputs": [],
   "source": []
  }
 ]
}